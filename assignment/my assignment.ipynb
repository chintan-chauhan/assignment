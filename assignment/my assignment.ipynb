{
 "cells": [
  {
   "cell_type": "code",
   "execution_count": 1,
   "id": "99e0588e-2645-4b1e-b9e9-2814a27b6183",
   "metadata": {},
   "outputs": [
    {
     "data": {
      "text/plain": [
       "'Cloud application\\n   Desktop application\\n   Web application\\n   Database application\\n   Mobile application'"
      ]
     },
     "execution_count": 1,
     "metadata": {},
     "output_type": "execute_result"
    }
   ],
   "source": [
    "# (1) What are the types of Applications?\n",
    "\"\"\"Ans - Cloud application\n",
    "         Desktop application\n",
    "         Web application\n",
    "         Database application\n",
    "         Mobile application\"\"\""
   ]
  },
  {
   "cell_type": "code",
   "execution_count": null,
   "id": "9b342ff4-4c88-4819-a7d9-f35d613236c3",
   "metadata": {},
   "outputs": [],
   "source": [
    "#(2)What is programing? \n",
    "\"\"\"Ans - Programming is a process to writing a code for a computer to execute in order to accomplish specific tasks. To act a bridge between \n",
    "human instruction and the binary code computer understand. These are a different types of programming languages like Java, Python, C++.\n"
   ]
  },
  {
   "cell_type": "code",
   "execution_count": null,
   "id": "ed9d0146-1995-4e73-8899-eba9c21522f5",
   "metadata": {},
   "outputs": [],
   "source": [
    "#(3) What is Python? \n",
    "\"\"\"Ans - Python is a programming language. It was created by Guido van Rossum and in 1991. It is easy to read and write.\n",
    "It’s widely used in web development, data science, automation, and machine learning.\n"
   ]
  },
  {
   "cell_type": "code",
   "execution_count": 21,
   "id": "9d90428c-5845-4d1a-b2d9-64eff93f3a62",
   "metadata": {},
   "outputs": [
    {
     "name": "stdin",
     "output_type": "stream",
     "text": [
      "Enter a number 2\n"
     ]
    },
    {
     "name": "stdout",
     "output_type": "stream",
     "text": [
      "Positive number\n"
     ]
    }
   ],
   "source": [
    "#(4) Write a Python program to check if a number is positive, negative or zero. \n",
    "a = int(input(\"Enter a number\"))\n",
    "if a > 0:\n",
    "    print(\"Positive number\")\n",
    "elif a == 0:\n",
    "    print(\"Zero number\")\n",
    "else:\n",
    "    print(\"Negative number\")"
   ]
  },
  {
   "cell_type": "code",
   "execution_count": 39,
   "id": "22b5c5f5-e58a-45a3-83e1-788f95283760",
   "metadata": {},
   "outputs": [
    {
     "name": "stdin",
     "output_type": "stream",
     "text": [
      "Enter a number 5\n"
     ]
    },
    {
     "name": "stdout",
     "output_type": "stream",
     "text": [
      "factorial is 120\n"
     ]
    }
   ],
   "source": [
    "#(5) Write a Python program to get the Factorial number of given numbers. \n",
    "a1 = int(input(\"Enter a number\"))\n",
    "if a1 < 0:\n",
    "         print(\"Factorial is not defined for a negative numbers\")\n",
    "else:\n",
    "    b = 1\n",
    "    for i in range(1, a1 + 1):\n",
    "        b *= i\n",
    "    print(\"factorial is\", b)\n",
    "    "
   ]
  },
  {
   "cell_type": "code",
   "execution_count": 53,
   "id": "30c1c4df-1a48-4331-a895-14b6bd01f85e",
   "metadata": {},
   "outputs": [
    {
     "name": "stdin",
     "output_type": "stream",
     "text": [
      "Enter a range:  10\n"
     ]
    },
    {
     "name": "stdout",
     "output_type": "stream",
     "text": [
      "0 1 1 2 3 5 8 13 21 34 "
     ]
    }
   ],
   "source": [
    "#(6) Write a Python program to get the Fibonacci series of given range. \n",
    "a2 = int(input(\"Enter a range: \"))\n",
    "a, b = 0,1 \n",
    "for i in range (a2):\n",
    "    print(a, end=\" \")\n",
    "    a, b = b, b + a"
   ]
  },
  {
   "cell_type": "code",
   "execution_count": null,
   "id": "a16b52fa-6146-4fd5-a076-bb796499893d",
   "metadata": {},
   "outputs": [],
   "source": [
    "#(7) How memory is managed in Python?\n",
    "\"\"\"1. Automatic Garbage Collection\n",
    "Python has an automatic garbage collection system that reclaims memory by removing objects no longer in use.\n",
    "2. Reference Counting\n",
    "Each object in Python has a reference count that tracks how many references point to it.\n",
    "When the reference count of an object reaches zero, it is automatically deallocated.\n",
    "This approach helps free up memory for objects that are no longer needed.\"\"\""
   ]
  },
  {
   "cell_type": "code",
   "execution_count": 17,
   "id": "c5706be3-b67c-44d2-bfee-49caacc3584f",
   "metadata": {},
   "outputs": [
    {
     "name": "stdin",
     "output_type": "stream",
     "text": [
      "Enter a number 11\n"
     ]
    },
    {
     "name": "stdout",
     "output_type": "stream",
     "text": [
      "1\n",
      "2\n",
      "3\n",
      "4\n",
      "6\n",
      "7\n",
      "8\n",
      "9\n",
      "10\n"
     ]
    }
   ],
   "source": [
    "#(8) What is the purpose continuing statement in python?\n",
    "\"\"\"The continue statement in Python is used within loops (like for or while loops) to skip the current iteration and proceed to the next one.\"\"\"\n",
    "a3 = int(input(\"Enter a number\"))\n",
    "for i in range(1,11):\n",
    "    if i == 5:\n",
    "        continue\n",
    "    print(i)\n"
   ]
  },
  {
   "cell_type": "code",
   "execution_count": 25,
   "id": "9a7d581c-f684-4457-841d-fed3a464d2bb",
   "metadata": {},
   "outputs": [
    {
     "name": "stdin",
     "output_type": "stream",
     "text": [
      "Enter a number 2\n",
      "Enter a number 3\n"
     ]
    },
    {
     "name": "stdout",
     "output_type": "stream",
     "text": [
      "Before swapping: A =  2 , B =  3\n",
      "After swapping: A =  3 , B =  2\n"
     ]
    }
   ],
   "source": [
    "#(9) Write python program that swap two number with temp variable and without temp variable.\n",
    "#Swapping with temporary variable\n",
    "a = int(input(\"Enter a number\"))\n",
    "b = int(input(\"Enter a number\"))\n",
    "\n",
    "print(\"Before swapping: A = \", a , \", B = \", b)\n",
    "\n",
    "#Swapping without temporary variable\n",
    "temp = a\n",
    "a = b \n",
    "b = temp\n",
    "print(\"After swapping: A = \", a, \", B = \", b)"
   ]
  },
  {
   "cell_type": "code",
   "execution_count": 37,
   "id": "e9f82134-c512-44dd-bddc-03f9e35efc73",
   "metadata": {},
   "outputs": [
    {
     "name": "stdin",
     "output_type": "stream",
     "text": [
      "Enter a number 8\n"
     ]
    },
    {
     "name": "stdout",
     "output_type": "stream",
     "text": [
      "This number is a even number : 8\n"
     ]
    }
   ],
   "source": [
    "#(10) Write a Python program to find whether a given number is even or odd, print out an appropriate message to the user. \n",
    "a = int(input(\"Enter a number\"))\n",
    "if a % 2 ==0:\n",
    "    print(\"This number is a even number :\",a)\n",
    "else:\n",
    "    print(\"This number is a odd number :\", a)"
   ]
  },
  {
   "cell_type": "code",
   "execution_count": 49,
   "id": "0dd74dde-f047-4a5d-a45e-980f40e84c27",
   "metadata": {},
   "outputs": [
    {
     "name": "stdin",
     "output_type": "stream",
     "text": [
      "Enter a letter O\n"
     ]
    },
    {
     "name": "stdout",
     "output_type": "stream",
     "text": [
      "Vowel Letter -> O\n"
     ]
    }
   ],
   "source": [
    "#(11) Write a Python program to test whether a passed letter is a vowel or not. \n",
    "a = input(\"Enter a letter\")\n",
    "if a in 'AEIOUaeiou':\n",
    "    print(\"Vowel Letter ->\",a)\n",
    "else:\n",
    "    print(\"Not vowel Letter ->\",a)"
   ]
  },
  {
   "cell_type": "code",
   "execution_count": 59,
   "id": "073f90d2-cb08-4792-8119-e58ec2fe7d4f",
   "metadata": {},
   "outputs": [
    {
     "name": "stdin",
     "output_type": "stream",
     "text": [
      "Enter a number 20\n",
      "Enter a number 30\n",
      "Enter a number 20\n"
     ]
    },
    {
     "name": "stdout",
     "output_type": "stream",
     "text": [
      "0\n"
     ]
    }
   ],
   "source": [
    "#(12) Write a Python program to sum of three given integers. However, if two values are equal sum will be zero.\n",
    "a = int(input(\"Enter a number\"))\n",
    "b = int(input(\"Enter a number\"))\n",
    "c = int(input(\"Enter a number\"))\n",
    "\n",
    "if a == b or b == c or c == a:\n",
    "    print(0)\n",
    "else:\n",
    "    print(\"Sum:\", a + b + c)"
   ]
  },
  {
   "cell_type": "code",
   "execution_count": 67,
   "id": "4a91efd2-ea1c-45f1-8d33-a1260b849180",
   "metadata": {},
   "outputs": [
    {
     "name": "stdin",
     "output_type": "stream",
     "text": [
      "Enter a number 100\n",
      "Enter a number 150\n"
     ]
    },
    {
     "name": "stdout",
     "output_type": "stream",
     "text": [
      "True\n"
     ]
    }
   ],
   "source": [
    "#(13) Write a Python program that will return true if the two given integer values are equal or their sum or difference is 5. \n",
    "a = int(input(\"Enter a number\"))\n",
    "b = int(input(\"Enter a number\"))\n",
    "if a - b == 5 or a + b or a == b:\n",
    "    print(True)\n",
    "else:\n",
    "    print(False)"
   ]
  },
  {
   "cell_type": "code",
   "execution_count": 83,
   "id": "40f21676-3afd-4cdb-8d2e-2a5bbe0e9383",
   "metadata": {},
   "outputs": [
    {
     "name": "stdin",
     "output_type": "stream",
     "text": [
      "Enter a number 15\n"
     ]
    },
    {
     "name": "stdout",
     "output_type": "stream",
     "text": [
      "positive integer:  120\n"
     ]
    }
   ],
   "source": [
    "#(14) Write a python program to sum of the first n positive integers. \n",
    "a = int(input(\"Enter a number\"))\n",
    "sum = a * (a + 1) // 2\n",
    "print(\"positive integer: \", sum)\n"
   ]
  },
  {
   "cell_type": "code",
   "execution_count": 93,
   "id": "ec1685a7-4998-4e0c-b023-498433bc8fb3",
   "metadata": {},
   "outputs": [
    {
     "name": "stdin",
     "output_type": "stream",
     "text": [
      "Enter a word python\n"
     ]
    },
    {
     "name": "stdout",
     "output_type": "stream",
     "text": [
      "Length: 6\n"
     ]
    }
   ],
   "source": [
    "#(15) Write a Python program to calculate the length of a string. \n",
    "# Get user input\n",
    "a = input(\"Enter a word\")\n",
    "print(\"Length:\", len(a))\n"
   ]
  },
  {
   "cell_type": "code",
   "execution_count": 2,
   "id": "23bcc351-49d2-4c0c-b319-771ba648fcc2",
   "metadata": {},
   "outputs": [
    {
     "name": "stdin",
     "output_type": "stream",
     "text": [
      "Enter a string:  hello world\n"
     ]
    },
    {
     "name": "stdout",
     "output_type": "stream",
     "text": [
      "count frequencies\n",
      " 'h': 1\n",
      " 'e': 1\n",
      " 'l': 3\n",
      " 'o': 2\n",
      " ' ': 1\n",
      " 'w': 1\n",
      " 'r': 1\n",
      " 'd': 1\n"
     ]
    }
   ],
   "source": [
    "#(16) Write a Python program to count the number of characters (character frequency) in a string \n",
    "string = input(\"Enter a string: \")\n",
    "count = {}\n",
    "for i in string:\n",
    "    if i in count:\n",
    "        count[i] += 1\n",
    "    else:\n",
    "        count[i] = 1\n",
    "print(\"count frequencies\")\n",
    "for i, countt in count.items():\n",
    "    print(f\" '{i}': {countt}\")"
   ]
  },
  {
   "cell_type": "code",
   "execution_count": 129,
   "id": "71df2ef8-ef83-49b8-8030-93b99070f7b3",
   "metadata": {},
   "outputs": [
    {
     "name": "stdout",
     "output_type": "stream",
     "text": [
      "50\n",
      "40\n"
     ]
    }
   ],
   "source": [
    "#(17) What are negative indexes and why are they used? \n",
    "lst = [10, 20, 30, 40, 50]\n",
    "print(lst[-1])\n",
    "print(lst[-2])\n",
    "\n",
    "\"\"\"Negative indexes in Python allow you to access elements from the end of a sequence, where -1 refers to the last element.\n",
    "They are useful for easily working with the end of lists, strings, or other sequences without needing to calculate their length.\"\"\""
   ]
  },
  {
   "cell_type": "code",
   "execution_count": 28,
   "id": "4a722382-8a5a-4827-901e-6253c973729a",
   "metadata": {},
   "outputs": [
    {
     "name": "stdin",
     "output_type": "stream",
     "text": [
      "Enter the string:  hello world\n",
      "Enter the substring:  hello\n"
     ]
    },
    {
     "name": "stdout",
     "output_type": "stream",
     "text": [
      "1 times in the main string.\n"
     ]
    }
   ],
   "source": [
    "#(18) Write a Python program to count occurrences of a substring in a string.\n",
    "str = input(\"Enter the string: \")\n",
    "substr = input(\"Enter the substring: \")\n",
    "\n",
    "count = str.count(substr)\n",
    "\n",
    "print(count, \"times in the main string.\")"
   ]
  },
  {
   "cell_type": "code",
   "execution_count": 7,
   "id": "6fe15c5e-caf4-489f-adba-d7a4ca9e50a2",
   "metadata": {},
   "outputs": [
    {
     "name": "stdin",
     "output_type": "stream",
     "text": [
      "Enter a sentence: Love is kind, and love brings love back.\n"
     ]
    },
    {
     "name": "stdout",
     "output_type": "stream",
     "text": [
      "Word occurrences:\n",
      "love: 3\n",
      "is: 1\n",
      "kind: 1\n",
      "and: 1\n",
      "brings: 1\n",
      "back: 1\n"
     ]
    }
   ],
   "source": [
    "#(19 Write a Python program to count the occurrences of each word in a given sentence\n",
    "sentence = input(\"Enter a sentence:\")\n",
    "sentence = sentence.lower()\n",
    "words = []\n",
    "word = \"\"\n",
    "for char in sentence:\n",
    "    if char.isalnum() or char == \"'\":\n",
    "        word += char\n",
    "    elif word:\n",
    "        words.append(word)\n",
    "        word = \"\"\n",
    "if word:\n",
    "    words.append(word)\n",
    "word_count ={}\n",
    "for word in words:\n",
    "    if word in word_count:\n",
    "        word_count[word] += 1\n",
    "    else:\n",
    "        word_count[word] = 1\n",
    "print(\"Word occurrences:\")\n",
    "for word, count in word_count.items():\n",
    "    print(f\"{word}: {count}\")"
   ]
  },
  {
   "cell_type": "code",
   "execution_count": 48,
   "id": "f4472810-6765-404e-a819-0fcfc557db88",
   "metadata": {},
   "outputs": [
    {
     "name": "stdin",
     "output_type": "stream",
     "text": [
      "First string:  Hello\n",
      "Second string:  World\n"
     ]
    },
    {
     "name": "stdout",
     "output_type": "stream",
     "text": [
      "Wollo Herld\n"
     ]
    }
   ],
   "source": [
    "#(20) Write a Python program to get a single string from two given strings, separated by a space and swap the first two characters of each string. \n",
    "a = input(\"First string: \")\n",
    "b = input(\"Second string: \")\n",
    "\n",
    "s1 = b[:2] + a[2:]\n",
    "s2 = a[:2] + b[2:]\n",
    "\n",
    "result = s1 + \" \" + s2\n",
    "print(result)"
   ]
  },
  {
   "cell_type": "code",
   "execution_count": 56,
   "id": "450deaed-3eab-4801-b38e-902d5ed5202b",
   "metadata": {},
   "outputs": [
    {
     "name": "stdin",
     "output_type": "stream",
     "text": [
      "Enter a word:  cring\n"
     ]
    },
    {
     "name": "stdout",
     "output_type": "stream",
     "text": [
      "cringly\n"
     ]
    }
   ],
   "source": [
    "#(21) Write a Python program to add 'in' at the end of a given string (length should be at least 3). If the given string already ends with 'ing' then\n",
    "# add 'ly' instead if the string length of the given string is less than 3, leave it unchanged. '''\n",
    "a = input(\"Enter a word: \")\n",
    "\n",
    "if len(a) < 3:\n",
    "    outcome = a\n",
    "elif a.endswith(\"ing\"):\n",
    "    outcome = a + \"ly\"\n",
    "else:\n",
    "    outcome = a + \"ing\"\n",
    "\n",
    "print(outcome)\n"
   ]
  },
  {
   "cell_type": "code",
   "execution_count": 64,
   "id": "0cd07a8d-452f-46a7-863a-694b9940954a",
   "metadata": {},
   "outputs": [
    {
     "name": "stdin",
     "output_type": "stream",
     "text": [
      "Enter a string:  hello python\n"
     ]
    },
    {
     "name": "stdout",
     "output_type": "stream",
     "text": [
      "Outcome: nohtyp olleh\n"
     ]
    }
   ],
   "source": [
    "#(22) Write a Python function to reverses a string if its length is a multiple of 4. \n",
    "a = input(\"Enter a string: \")\n",
    "\n",
    "if len(a) % 4 == 0:\n",
    "    a = a[::-1]\n",
    "\n",
    "print(\"Outcome:\", a)"
   ]
  },
  {
   "cell_type": "code",
   "execution_count": 68,
   "id": "23f1fa6d-a245-424d-8ace-11a5f100fe95",
   "metadata": {},
   "outputs": [
    {
     "name": "stdin",
     "output_type": "stream",
     "text": [
      "Enter a string:  Hello World\n"
     ]
    },
    {
     "name": "stdout",
     "output_type": "stream",
     "text": [
      "Held\n"
     ]
    }
   ],
   "source": [
    "#(23) Write a Python program to get a string made of the first 2 and the last 2 chars from a given a string. If the string length is less than 2, return\n",
    "# instead of the empty string.\n",
    "a = input(\"Enter a string: \")\n",
    "\n",
    "if len(a) < 2:\n",
    "    Outcome = \"\"\n",
    "else:\n",
    "    Outcome = a[:2] + a[-2:]\n",
    "\n",
    "print(Outcome)\n"
   ]
  },
  {
   "cell_type": "code",
   "execution_count": 80,
   "id": "7499b182-3607-4898-8097-daaffcc1e782",
   "metadata": {},
   "outputs": [
    {
     "name": "stdin",
     "output_type": "stream",
     "text": [
      "Enter the original string:  Hello\n",
      "Enter the string to insert:  Python\n"
     ]
    },
    {
     "name": "stdout",
     "output_type": "stream",
     "text": [
      "HePythonllo\n"
     ]
    }
   ],
   "source": [
    "#(24) Write a Python function to insert a string in the middle of a string.\n",
    "a = input(\"Enter the original string: \")\n",
    "b = input(\"Enter the string to insert: \")\n",
    "\n",
    "c = len(a) // 2\n",
    "d = a[:c] + b + a[c:]\n",
    "\n",
    "print(d)"
   ]
  },
  {
   "cell_type": "code",
   "execution_count": 90,
   "id": "e5c3d634-b2ed-4cab-9aa0-930d1117df38",
   "metadata": {},
   "outputs": [
    {
     "name": "stdout",
     "output_type": "stream",
     "text": [
      "[50, 40, 30, 20, 10]\n"
     ]
    }
   ],
   "source": [
    "#(25) What is List? How will you reverse a list? \n",
    "\"\"\"In Python, a list is a collection of items that keeps them in order, can be changed, and can include duplicates.\n",
    "It is made using square brackets [] and lets you add, remove, or work with the items.\"\"\"\n",
    "lst = [10, 20, 30, 40, 50]\n",
    "lst.reverse()\n",
    "print(lst)"
   ]
  },
  {
   "cell_type": "code",
   "execution_count": 92,
   "id": "86eee8a9-f2bf-476c-8cb2-d9241d16fd38",
   "metadata": {},
   "outputs": [
    {
     "name": "stdout",
     "output_type": "stream",
     "text": [
      "[1, 2, 3, 4]\n"
     ]
    }
   ],
   "source": [
    "#(26) How will you remove last object from a list?\n",
    "lst = [1, 2, 3, 4, 5,]\n",
    "lst.pop()\n",
    "print(lst)"
   ]
  },
  {
   "cell_type": "code",
   "execution_count": 98,
   "id": "107fd07f-db90-455a-9f1f-ce642ccb9990",
   "metadata": {},
   "outputs": [
    {
     "name": "stdout",
     "output_type": "stream",
     "text": [
      "25\n"
     ]
    }
   ],
   "source": [
    "#(27) Suppose list1 is [2, 33, 222, 14, and 25], what is list1 [-1]? \n",
    "list1 = [2, 33, 222, 14, 25]\n",
    "print(list1[-1])\n",
    "\n",
    "#list1[-1] gives the last item of the list, which is 25"
   ]
  },
  {
   "cell_type": "code",
   "execution_count": 106,
   "id": "4b237e21-f07c-476c-aca8-579a998d01fa",
   "metadata": {},
   "outputs": [
    {
     "name": "stdout",
     "output_type": "stream",
     "text": [
      "['excel', 'mysql', 'python', ['powerbi'], 'tableu']\n"
     ]
    }
   ],
   "source": [
    "#(28) Differentiate between append () and extend () methods? \n",
    "lst = [\"excel\", \"mysql\", \"python\"]\n",
    "lst.append([\"powerbi\"])\n",
    "print(lst)"
   ]
  },
  {
   "cell_type": "code",
   "execution_count": 110,
   "id": "49f223af-8bff-4608-977c-5472f7ea3ae6",
   "metadata": {},
   "outputs": [
    {
     "name": "stdout",
     "output_type": "stream",
     "text": [
      "['excel', 'mysql', 'python', ['powerbi'], 'tableu']\n"
     ]
    }
   ],
   "source": [
    "lst.extend(\"tableu\"])\n",
    "print(lst)"
   ]
  },
  {
   "cell_type": "code",
   "execution_count": null,
   "id": "992d7929-2fa6-4999-b6de-59ab31011215",
   "metadata": {},
   "outputs": [],
   "source": [
    "\"\"\"The append() method adds a single item to the end of a list as it is, treating it as one element. On the other hand, \n",
    "the extend() method adds each element of another list or iterable to the original list, combining them. \n",
    "In short, append() adds one item, while extend() adds multiple items from another collection.\"\"\""
   ]
  },
  {
   "cell_type": "code",
   "execution_count": 126,
   "id": "2ca5298f-df7c-4612-9737-3cdb969b4022",
   "metadata": {},
   "outputs": [
    {
     "name": "stdout",
     "output_type": "stream",
     "text": [
      "Large no. is 5 and Small no. is 1 and their sum will be: 15\n"
     ]
    }
   ],
   "source": [
    "#(29) Write a Python function to get the largest number, smallest num and sum of all from a list. \n",
    "lst = [1, 2, 3, 4, 5]\n",
    "large_no = max(lst)  \n",
    "small_no = min(lst)  \n",
    "total_sum = sum(lst) \n",
    "print(\"Large no. is\", large_no, \"and Small no. is\", small_no, \"and their sum will be:\", total_sum)\n"
   ]
  },
  {
   "cell_type": "code",
   "execution_count": 124,
   "id": "34666b5d-a1a9-4aa3-b0c6-83a2356414b8",
   "metadata": {},
   "outputs": [
    {
     "name": "stdout",
     "output_type": "stream",
     "text": [
      "This list are equal\n"
     ]
    }
   ],
   "source": [
    "#(30)How will you compare two lists?\n",
    "lst1 = [\"A\",\"B\",\"C\"]\n",
    "lst2 = [\"A\",\"B\",\"C\"]\n",
    "if lst1 == lst2:\n",
    "    print(\"This list is equal\")\n",
    "else:\n",
    "    print(\"This list is not equal\")"
   ]
  },
  {
   "cell_type": "code",
   "execution_count": 9,
   "id": "4d7a10e8-73ca-4956-804d-114a83484114",
   "metadata": {},
   "outputs": [
    {
     "name": "stdout",
     "output_type": "stream",
     "text": [
      "Number of strings where length is 2 or more and the first and last character are the same: 2\n"
     ]
    }
   ],
   "source": [
    "#(31) Write a Python program to count the number of strings where the string length is 2 or more and the first and last character are same from a\n",
    "#given list of strings.\n",
    "strings = [\"125\", \"512\", \"abc\", \"aba\", \"hello\", \"wow\"]\n",
    "count = 0\n",
    "for s in strings:\n",
    "    if len(s) >= 2 and s [0] == s[-1]:\n",
    "        count += 1\n",
    "print(\"Number of strings where length is 2 or more and the first and last character are the same:\", count)"
   ]
  },
  {
   "cell_type": "code",
   "execution_count": 130,
   "id": "b9a3a55e-b876-4b3d-a78e-7a588c2b2be4",
   "metadata": {},
   "outputs": [
    {
     "name": "stdout",
     "output_type": "stream",
     "text": [
      "List with duplicate: [1, 1, 2, 3, 4, 4, 5]\n",
      "List without duplicate: {1, 2, 3, 4, 5}\n"
     ]
    }
   ],
   "source": [
    "#(32)Write a Python program to remove duplicates from a list.\n",
    "lst1 = [1,1,2,3,4,4,5]\n",
    "sett = set(lst1)\n",
    "lst2 = sett\n",
    "print(\"List with duplicate:\", lst1)\n",
    "print('List without duplicate:', lst2)"
   ]
  },
  {
   "cell_type": "code",
   "execution_count": 3,
   "id": "a9ca7203-38b8-4db0-850c-f04f94e2b04a",
   "metadata": {},
   "outputs": [
    {
     "name": "stdout",
     "output_type": "stream",
     "text": [
      "List is not empty. List -> [10, 20, 30, 40, 50]\n"
     ]
    }
   ],
   "source": [
    "#(33)Write a Python program to check a list is empty or not\n",
    "lst = [10, 20, 30, 40, 50]\n",
    "if lst == 0:\n",
    "    print(\"List is empty\")\n",
    "else:\n",
    "    print(\"List is not empty. List ->\",lst)\n"
   ]
  },
  {
   "cell_type": "code",
   "execution_count": 13,
   "id": "2a6a7ab0-e9f9-4cc3-8654-3d61cca98d89",
   "metadata": {},
   "outputs": [
    {
     "name": "stdout",
     "output_type": "stream",
     "text": [
      "True\n"
     ]
    }
   ],
   "source": [
    "#(34) Write a Python function that takes two lists and returns true if they have at least one common member. \n",
    "lst1 = [3,4,5]\n",
    "lst2 = [1,2,5]\n",
    "answer = 0\n",
    "for i in lst1:\n",
    "    if i in lst2:\n",
    "        answer = True\n",
    "    else:\n",
    "        answer = False\n",
    "print(answer)"
   ]
  },
  {
   "cell_type": "code",
   "execution_count": 31,
   "id": "0f571b36-92c0-4e6a-936d-dc4ed0994f4a",
   "metadata": {},
   "outputs": [
    {
     "name": "stdout",
     "output_type": "stream",
     "text": [
      "[1, 4, 9, 16, 25, 676, 729, 784, 841, 900]\n"
     ]
    }
   ],
   "source": [
    "#(35) Write a Python program to generate and print a list of first and last 5 elements where the values are square of numbers between 1 and 30.\n",
    "a = [i**2 for i in range(1,31)]\n",
    "print(a[:5] + a[-5:])"
   ]
  },
  {
   "cell_type": "code",
   "execution_count": 59,
   "id": "f62f4e65-ed1a-439e-b155-dd0c20b4ecf0",
   "metadata": {},
   "outputs": [
    {
     "name": "stdout",
     "output_type": "stream",
     "text": [
      "original List:  ['tableu', 'powerbi', 'excel', 'powerbi', 'excel', 'stats']\n",
      "Unique Elements:  ['stats', 'powerbi', 'tableu', 'excel']\n"
     ]
    }
   ],
   "source": [
    "#(36) Write a Python function that takes a list and returns a new list with unique elements of the first list. \n",
    "def unique_element(lst):\n",
    "    return list(set(lst))\n",
    "lstt = [\"tableu\", \"powerbi\", \"excel\", \"powerbi\", \"excel\", \"stats\"]\n",
    "alst = set(lstt)\n",
    "alst = list(alst)\n",
    "print(\"original List: \",lstt)\n",
    "print(\"Unique Elements: \",alst)\n"
   ]
  },
  {
   "cell_type": "code",
   "execution_count": 63,
   "id": "3cc3d3c6-b340-4c6b-a64a-8a8fee8dd221",
   "metadata": {},
   "outputs": [
    {
     "name": "stdout",
     "output_type": "stream",
     "text": [
      "TABLEU\n"
     ]
    }
   ],
   "source": [
    "#(37)Write a Python program to convert a list of characters into a string. \n",
    "lst = [\"T\",\"A\",\"B\",\"L\",\"E\",\"U\"]\n",
    "x = \"\".join(lst)\n",
    "print(x)"
   ]
  },
  {
   "cell_type": "code",
   "execution_count": 123,
   "id": "fc220a4e-1ad8-4fdd-a87e-9eb1a20be55d",
   "metadata": {},
   "outputs": [
    {
     "name": "stdout",
     "output_type": "stream",
     "text": [
      "random item -> 2\n"
     ]
    }
   ],
   "source": [
    "#(38)Write a Python program to select an item randomly from a list. \n",
    "lst=[2,5,6,8,9]\n",
    "sett = set(lst)\n",
    "for i in sett:\n",
    "    print(\"random item ->\",i)\n",
    "    break"
   ]
  },
  {
   "cell_type": "code",
   "execution_count": 127,
   "id": "ac6438bf-8203-4126-94cf-a7cfeacda7f9",
   "metadata": {},
   "outputs": [
    {
     "name": "stdout",
     "output_type": "stream",
     "text": [
      "Original list: [7, 2, 5, 3, 9, 1, 4]\n",
      "Second smallest number: 2\n"
     ]
    }
   ],
   "source": [
    "#(39)Write a Python program to find the second smallest number in a list. \n",
    "\n",
    "numbers = [7, 2, 5, 3, 9, 1, 4]\n",
    "\n",
    "\n",
    "un = list(set(numbers))  \n",
    "un.sort()                \n",
    "\n",
    "if len(un) < 2:\n",
    "    print(\"The list does not have enough unique numbers.\")\n",
    "else:\n",
    "    second_smallest = un[1]\n",
    "    print(\"Original list:\", numbers)\n",
    "    print(\"Second smallest number:\", second_smallest)\n"
   ]
  },
  {
   "cell_type": "code",
   "execution_count": 129,
   "id": "8825ef7e-ce3c-423b-bff3-5cca84cde3eb",
   "metadata": {},
   "outputs": [
    {
     "name": "stdout",
     "output_type": "stream",
     "text": [
      "Original list: [1, 2, 2, 3, 4, 4, 5, 6, 6, 7]\n",
      "Unique values: [1, 2, 3, 4, 5, 6, 7]\n"
     ]
    }
   ],
   "source": [
    "#(40)Write a Python program to get unique values from a list \n",
    "numbers = [1, 2, 2, 3, 4, 4, 5, 6, 6, 7]\n",
    "unique_values = list(set(numbers))\n",
    "\n",
    "print(\"Original list:\", numbers)\n",
    "print(\"Unique values:\", unique_values)\n"
   ]
  },
  {
   "cell_type": "code",
   "execution_count": 71,
   "id": "5db5722c-80b8-4f27-a12d-7591decaab2f",
   "metadata": {},
   "outputs": [
    {
     "name": "stdout",
     "output_type": "stream",
     "text": [
      "The main list contains the sublist.\n"
     ]
    }
   ],
   "source": [
    "#(41)Write a Python program to check whether a list contains a sub list \n",
    "lst1 = [1,2,3,4,5]\n",
    "lst2 = [3,4]\n",
    "check = False\n",
    "for i in range(len(lst1) - len(lst2) + 1):\n",
    "    if lst1[i:i + len(lst2)] == lst2:\n",
    "        check = True\n",
    "        break\n",
    "if check:\n",
    "    print(\"The main list contains the sublist.\")\n",
    "else:\n",
    "    print(\"The main list does not contain the sublist.\")"
   ]
  },
  {
   "cell_type": "code",
   "execution_count": 3,
   "id": "8c41532a-f498-4154-a437-faac9c3cc8ed",
   "metadata": {},
   "outputs": [
    {
     "name": "stdout",
     "output_type": "stream",
     "text": [
      "first variable is tableu\n",
      "second variable is  powerbi\n",
      "thrid variable is python\n"
     ]
    }
   ],
   "source": [
    "#(42)Write a Python program to split a list into different variables. \n",
    "lst = [\"tableu\", \"powerbi\", \"python\"]\n",
    "a, b, c = lst\n",
    "print(\"first variable is\",a)\n",
    "print(\"second variable is \",b)\n",
    "print(\"thrid variable is\",c)\n"
   ]
  },
  {
   "cell_type": "code",
   "execution_count": null,
   "id": "3b6b3e46-097c-4877-b486-8219491d397d",
   "metadata": {},
   "outputs": [],
   "source": [
    "#(43)What is tuple? Difference between list and tuple. \n",
    "'''A tuple is a collection of items in Python that cannot be changed after it is created.\n",
    "It is written using parentheses () and is used to store fixed data. Like lists, tuples are ordered, \n",
    "can hold different types of data, and you can access items using their position. However, tuples are faster and use less memory than lists.\n",
    "\n",
    "Difference Between List and Tuple:\n",
    "1. Changeability: Lists can be changed, but tuples cannot.\n",
    "2. Syntax: Lists use square brackets [], while tuples use parentheses ().\n",
    "3. Speed: Tuples are quicker and take less space.\n",
    "4. Functions: Lists have more functions like add or remove, while tuples have fewer.\n",
    "\n",
    "Use lists if the data needs to change, and tuples if the data should stay the same."
   ]
  },
  {
   "cell_type": "code",
   "execution_count": 3,
   "id": "b98b8aae-ccec-482b-a2ec-e6e1a4da1e1c",
   "metadata": {},
   "outputs": [
    {
     "name": "stdout",
     "output_type": "stream",
     "text": [
      "(('powerbi', 'tableu'), 1, 2, 'Hello world', 68.21, True, [1, 2, 3])\n"
     ]
    }
   ],
   "source": [
    "#(44)Write a Python program to create a tuple with different data types. \n",
    "tup = ((\"powerbi\", \"tableu\"),1,2,\"Hello world\",68.21, True, [1, 2, 3], )\n",
    "print(tup)"
   ]
  },
  {
   "cell_type": "code",
   "execution_count": 55,
   "id": "002787e1-e9a7-4eda-ba71-bc23bc407960",
   "metadata": {},
   "outputs": [
    {
     "name": "stdout",
     "output_type": "stream",
     "text": [
      "List 1: [1, 2, 3]\n",
      "List 2: ['a', 'b', 'c']\n"
     ]
    }
   ],
   "source": [
    "#(45)Write a Python program to unzip a list of tuples into individual lists. \n",
    "\n",
    "lst = [(1, 'a'), (2, 'b'), (3, 'c')]\n",
    "lst1, lst2 = zip(*lst)\n",
    "\n",
    "lst1 = list(lst1)\n",
    "lst2 = list(lst2)\n",
    "\n",
    "print(\"List 1:\", lst1)\n",
    "print(\"List 2:\", lst2)\n"
   ]
  },
  {
   "cell_type": "code",
   "execution_count": 7,
   "id": "5326fa70-725e-4041-9b2f-a6301c9a561f",
   "metadata": {},
   "outputs": [
    {
     "name": "stdout",
     "output_type": "stream",
     "text": [
      "Dictionary: {'A': 'tableu', 'B': 'powerbi', 'C': 'python'}\n"
     ]
    }
   ],
   "source": [
    "#(46)Write a Python program to convert a list of tuples into a dictionary. \n",
    "tup = [(\"A\", \"tableu\"), (\"B\" , \"powerbi\") ,(\"C\" , \"python\")]\n",
    "\n",
    "dictt = dict(tup)\n",
    "print(\"Dictionary:\", dictt)\n"
   ]
  },
  {
   "cell_type": "code",
   "execution_count": 32,
   "id": "40d67adf-b3eb-4834-b53b-507a74198f48",
   "metadata": {},
   "outputs": [
    {
     "name": "stdout",
     "output_type": "stream",
     "text": [
      "Dictionary: {'A': 'Apple', 'B': 'banana', 'c': 'coconut', 'D': 'Dragon fruits'}\n"
     ]
    }
   ],
   "source": [
    "#(47)How will you create a dictionary using tuples in python?\n",
    "tup = [(\"A\",\"Apple\",),  (\"B\", \"banana\"), (\"c\", \"coconut\"),(\"D\", \"Dragon fruits\")]\n",
    "dictt = dict(tup)\n",
    "print(\"Dictionary:\", dictt)\n"
   ]
  },
  {
   "cell_type": "code",
   "execution_count": 19,
   "id": "00550721-6671-43eb-a0c1-4b99942c3e40",
   "metadata": {},
   "outputs": [
    {
     "name": "stdout",
     "output_type": "stream",
     "text": [
      "Ascending: ['a', 'b', 'c', 'd']\n",
      "Descending: ['d', 'c', 'b', 'a']\n"
     ]
    }
   ],
   "source": [
    "#(48)Write a Python script to sort (ascending and descending) a dictionary by value. \n",
    "dict1 = {\"a\":\"a\", \"b\":\"b\", \"c\" :\"c\", \"d\":\"d\"}\n",
    "x = list(dict1.values())\n",
    "x.sort()\n",
    "print(\"Ascending:\", x)\n",
    "y = list(dict1.values())\n",
    "y.sort(reverse = True)\n",
    "print(\"Descending:\", y)\n"
   ]
  },
  {
   "cell_type": "code",
   "execution_count": 23,
   "id": "86e5d449-168e-4098-8f51-4e06e5dccf27",
   "metadata": {},
   "outputs": [
    {
     "name": "stdout",
     "output_type": "stream",
     "text": [
      "{'x': 9, 'y': 8, 'a': 7, 'b': 6, 'm': 5, 'n': 4}\n"
     ]
    }
   ],
   "source": [
    "#(49)Write a Python script to concatenate following dictionaries to create a new one. \n",
    "dict1 = {\"x\" : 9, \"y\" : 8}  #key : Value\n",
    "dict2 = {\"a\" : 7, \"b\" : 6}\n",
    "dict3 = {\"m\" : 5, \"n\" : 4}\n",
    "x1 = dict1.copy()\n",
    "x1.update(dict2)\n",
    "x1.update(dict3)\n",
    "print(x1)"
   ]
  },
  {
   "cell_type": "code",
   "execution_count": 29,
   "id": "c4b59483-1f31-48f0-a3ec-7c89b55f6706",
   "metadata": {},
   "outputs": [
    {
     "name": "stdin",
     "output_type": "stream",
     "text": [
      "Enter a Key A\n"
     ]
    },
    {
     "name": "stdout",
     "output_type": "stream",
     "text": [
      "A this key is already exists\n"
     ]
    }
   ],
   "source": [
    "#(50)Write a Python script to check if a given key already exists in a dictionary. \n",
    "dict = {\"A\": \"Apple\", \"B\" : \"Banana\", \"C\" : \"Coconut\"}\n",
    "key = input(\"Enter a Key\")\n",
    "if key in dict:\n",
    "    print(key, \"this key is already exists\")\n",
    "else:\n",
    "    print(key, \"this key is not exists\")\n"
   ]
  },
  {
   "cell_type": "code",
   "execution_count": 8,
   "id": "057528a9-30b8-4248-be10-49dd77d33d9d",
   "metadata": {},
   "outputs": [
    {
     "name": "stdout",
     "output_type": "stream",
     "text": [
      "Keys:\n",
      "Name\n",
      "Age\n",
      "Country\n",
      "Values:\n",
      "Python\n",
      "30\n",
      "Netherland\n",
      "Items:\n",
      "('Name', 'Python')\n",
      "('Age', 30)\n",
      "('Country', 'Netherland')\n"
     ]
    }
   ],
   "source": [
    "#(51)How Do You Traverse Through a Dictionary Object in Python? \n",
    "dictt = {\"Name\" : \"Python\",\n",
    "         \"Age\" : 30,\n",
    "         \"Country\" : \"Netherland\"}\n",
    "print(\"Keys:\")\n",
    "for i in dictt.keys():\n",
    "    print(i)\n",
    "\n",
    "print(\"Values:\")\n",
    "for j in dictt.values():\n",
    "    print(j)\n",
    "\n",
    "print(\"Items:\")\n",
    "for k in dictt.items():\n",
    "    print(k)\n"
   ]
  },
  {
   "cell_type": "code",
   "execution_count": 22,
   "id": "f9e82f4e-083a-42da-8927-6941244dd815",
   "metadata": {},
   "outputs": [
    {
     "name": "stdin",
     "output_type": "stream",
     "text": [
      "Input a key in Capital letters: A\n"
     ]
    },
    {
     "name": "stdout",
     "output_type": "stream",
     "text": [
      "key is present.\n"
     ]
    }
   ],
   "source": [
    "#(52)How Do You Check the Presence of a Key in A Dictionary? \n",
    "dictt = {\"A\" : 1,\n",
    "         \"B\" : 2,\n",
    "         \"C\" : 3}\n",
    "a = input(\"Input a key in Capital letters:\")\n",
    "if a in dictt:\n",
    "    print(\"key is present.\")\n",
    "else:\n",
    "    print(\"Key is not present.\")"
   ]
  },
  {
   "cell_type": "code",
   "execution_count": 30,
   "id": "f727a85a-f97b-481d-8dd1-20207cebb5ed",
   "metadata": {},
   "outputs": [
    {
     "name": "stdout",
     "output_type": "stream",
     "text": [
      "{1: '!', 2: '!', 3: '!', 4: '!', 5: '!', 6: '!', 7: '!', 8: '!', 9: '!', 10: '!', 11: '!', 12: '!', 13: '!', 14: '!', 15: '!'}\n"
     ]
    }
   ],
   "source": [
    "#(53)Write a Python script to print a dictionary where the keys are numbers between 1 and 15. \n",
    "dictt = {}\n",
    "for i in range(1,16):\n",
    "    dictt[i] = \"!\"\n",
    "print(dictt)"
   ]
  },
  {
   "cell_type": "code",
   "execution_count": 34,
   "id": "f8c72fed-72d0-44a5-99fa-2b8be18dbefd",
   "metadata": {},
   "outputs": [
    {
     "name": "stdout",
     "output_type": "stream",
     "text": [
      "All keys exist in the dictionary.\n"
     ]
    }
   ],
   "source": [
    "#(54)Write a Python program to check multiple keys exists in a dictionary\n",
    "dictt1 = {'a' : 1,\n",
    "          'b' : 2,\n",
    "          'c' : 3,\n",
    "          'd' : 4}\n",
    "key = ['a', 'b', 'c', 'd']\n",
    "\n",
    "if all(k in dictt1 for k in key):\n",
    "    print(\"All keys exist in the dictionary.\")\n",
    "else:\n",
    "    print(\"Some keys are missing.\")"
   ]
  },
  {
   "cell_type": "code",
   "execution_count": 40,
   "id": "962d6f24-6bdc-4b68-a729-9e56e5ce86a7",
   "metadata": {},
   "outputs": [
    {
     "name": "stdout",
     "output_type": "stream",
     "text": [
      "{'name': 'Python', 'Age': 33, 'City': 'Ahmedabad', 'State': 'Gujarat'}\n"
     ]
    }
   ],
   "source": [
    "#(55)Write a Python script to merge two Python dictionaries \n",
    "a = {\"name\" : \"Python\",\n",
    "     \"Age\" : 33}\n",
    "b = {\"City\" : \"Ahmedabad\",\n",
    "     \"State\" : \"Gujarat\"}\n",
    "a.update(b)\n",
    "print(a)\n",
    "     "
   ]
  },
  {
   "cell_type": "code",
   "execution_count": 65,
   "id": "beffc722-bb08-4a49-b882-aef8fc9a879c",
   "metadata": {},
   "outputs": [
    {
     "name": "stdout",
     "output_type": "stream",
     "text": [
      "Counter({'a': 400, 'b': 400, 'c': 400, 'd': 300})\n"
     ]
    }
   ],
   "source": [
    "#(56)Write a Python program to map two lists into a dictionary \n",
    "#Sample output: Counter ({'a': 400, 'b': 400,’d’: 400, 'c': 300}). \n",
    "key = [\"a\", \"b\", \"c\", \"d\"]\n",
    "value = [400, 400, 400, 300]\n",
    "dict1 = dict(zip(key, value))\n",
    "print(dict2)"
   ]
  },
  {
   "cell_type": "code",
   "execution_count": 44,
   "id": "b38d7c8d-6d2a-44c4-a35c-9895da0c6328",
   "metadata": {},
   "outputs": [
    {
     "name": "stdout",
     "output_type": "stream",
     "text": [
      "[65, 2, 102, 10, 250, 56]\n",
      "These are three highest values in dict: [250, 102, 65]\n"
     ]
    }
   ],
   "source": [
    "#(57)Write a Python program to find the highest 3 values in a dictionary \n",
    "dictt = {'a':65,'b':2,'c':102,'d':10,'e':250,'f':56}\n",
    "ab = list(dictt.values())\n",
    "print(ab)\n",
    "ab.sort(reverse = True)\n",
    "print(\"These are three highest values in dict:\",ab[:3])"
   ]
  },
  {
   "cell_type": "code",
   "execution_count": 5,
   "id": "82c02bbd-c811-47a8-809c-6fbaa23f2530",
   "metadata": {},
   "outputs": [
    {
     "name": "stdout",
     "output_type": "stream",
     "text": [
      "Expected Output: {'item1': 1150, 'item2': 300}\n"
     ]
    }
   ],
   "source": [
    "#(58)Write a Python program to combine values in python list of dictionaries.\n",
    "#Sample data: [{'item': 'item1', 'amount': 400}, {'item': 'item2', 'amount':300}, o {'item': 'item1', 'amount': 750}]\n",
    "#Expected Output: Counter ({'item1': 1150, 'item2': 300})\n",
    "data = [{'item' : 'item1',\n",
    "         'amount' : 400},\n",
    "        {'item' : 'item2',\n",
    "         'amount' : 300},\n",
    "        {'item': 'item1',\n",
    "         'amount': 750}]\n",
    "\n",
    "result = {}\n",
    "for i in data:\n",
    "    item = i['item']\n",
    "    amount = i['amount']\n",
    "    if item in result:\n",
    "        result[item] += amount\n",
    "    else:\n",
    "        result[item] = amount\n",
    "print(\"Expected Output:\", result)\n"
   ]
  },
  {
   "cell_type": "code",
   "execution_count": 13,
   "id": "075ae68e-c662-4a38-941b-54852a0efec9",
   "metadata": {},
   "outputs": [
    {
     "name": "stdout",
     "output_type": "stream",
     "text": [
      "Letter count: {'h': 1, 'e': 1, 'l': 3, 'o': 2, 'w': 1, 'r': 1, 'd': 1}\n"
     ]
    }
   ],
   "source": [
    "#(59)Write a Python program to create a dictionary from a string.\n",
    "#Note: Track the count of the letters from the string. \n",
    "input_string = \"Hello World\"\n",
    "letter_count = {}\n",
    "\n",
    "for char in input_string:\n",
    "    if char.isalpha():\n",
    "        char = char.lower()  \n",
    "        if char in letter_count:\n",
    "            letter_count[char] += 1\n",
    "        else:\n",
    "            letter_count[char] = 1\n",
    "print(\"Letter count:\", letter_count)\n"
   ]
  },
  {
   "cell_type": "code",
   "execution_count": 19,
   "id": "67a8766c-07f7-490d-ba96-779ee48ed133",
   "metadata": {},
   "outputs": [
    {
     "name": "stdout",
     "output_type": "stream",
     "text": [
      "Letter count: {'w': 1, '3': 1, 'r': 2, 'e': 2, 's': 1, 'o': 1, 'u': 1, 'c': 1}\n"
     ]
    }
   ],
   "source": [
    "#(60)Sample string:\n",
    "# 'w3resource' Expected output: • {'3': 1,’s’: 1, 'r': 2, 'u': 1, 'w': 1, 'c': 1, 'e': 2, 'o': 1}\n",
    "input_string = \"w3resource\"\n",
    "letter_count = {}\n",
    "\n",
    "for char in input_string:\n",
    "    if char.isalnum():\n",
    "        char = char.lower()  \n",
    "        if char in letter_count:\n",
    "            letter_count[char] += 1\n",
    "        else:\n",
    "            letter_count[char] = 1\n",
    "print(\"Letter count:\", letter_count)"
   ]
  },
  {
   "cell_type": "code",
   "execution_count": 33,
   "id": "3c2299b4-84e3-4c40-b8bd-8f84f84bec2c",
   "metadata": {},
   "outputs": [
    {
     "name": "stdout",
     "output_type": "stream",
     "text": [
      "The factorial of 5 is : 120\n"
     ]
    }
   ],
   "source": [
    "#(61)Write a Python function to calculate the factorial of a number (anonnegative integer) \n",
    "def factorial_number(n):\n",
    "    if n < 0:\n",
    "        return \n",
    "    result = 1\n",
    "    for i in range(1, n + 1):\n",
    "        result *= i\n",
    "    return result\n",
    "number = 5\n",
    "print(f\"The factorial of {number} is : {factorial_number(number)}\")\n",
    "    "
   ]
  },
  {
   "cell_type": "code",
   "execution_count": 39,
   "id": "94ea4125-5a1e-4cf3-b5ca-740b8e56a0d4",
   "metadata": {},
   "outputs": [
    {
     "name": "stdin",
     "output_type": "stream",
     "text": [
      "Enter a number 16\n",
      "Enter starting number: 11\n",
      "Enter Ending number: 20\n"
     ]
    },
    {
     "name": "stdout",
     "output_type": "stream",
     "text": [
      "16 is within the range [11, 20].\n"
     ]
    }
   ],
   "source": [
    "#(62)Write a Python function to check whether a number is in a given range \n",
    "def range(number, start, end):\n",
    "    return start <= number <= end\n",
    "num = int(input(\"Enter a number\"))\n",
    "start = int(input(\"Enter starting number:\"))\n",
    "end = int(input(\"Enter Ending number:\"))\n",
    "\n",
    "if range(num, start, end):\n",
    "    print(f\"{num} is within the range [{start}, {end}].\")\n",
    "else:\n",
    "    print(f\"{num} is not within the range [{start}, {end}].\")"
   ]
  },
  {
   "cell_type": "code",
   "execution_count": 15,
   "id": "4d96de80-77f1-42a1-8e96-a0d641992711",
   "metadata": {},
   "outputs": [
    {
     "name": "stdin",
     "output_type": "stream",
     "text": [
      "Enter a number: 12\n"
     ]
    },
    {
     "name": "stdout",
     "output_type": "stream",
     "text": [
      "12 is not a perfect number.\n"
     ]
    }
   ],
   "source": [
    "#(63)Write a Python function to check whether a number is perfect or not.\n",
    "def is_perfect_number(num):\n",
    "    if num <= 0:\n",
    "        return False\n",
    "    sum_of_divisors = 0\n",
    "    for i in range(1, num // 2 + 1):\n",
    "        if num % i == 0:\n",
    "            sum_of_divisors += i\n",
    "    if sum_of_divisors == num:\n",
    "        return True\n",
    "    else:\n",
    "        return False\n",
    "num = int(input(\"Enter a number:\"))\n",
    "if is_perfect_number(num):\n",
    "    print(f\"{num} is a perfect number.\")\n",
    "else:\n",
    "    print(f\"{num} is not a perfect number.\")\n",
    "    \n"
   ]
  },
  {
   "cell_type": "code",
   "execution_count": 7,
   "id": "ccc38621-67d4-4327-a0dd-4c1aca28b420",
   "metadata": {},
   "outputs": [
    {
     "name": "stdout",
     "output_type": "stream",
     "text": [
      "True\n",
      "True\n",
      "False\n"
     ]
    }
   ],
   "source": [
    "#(64)Write a Python function that checks whether a passed string is palindrome or not \n",
    "def palindrome(s):\n",
    "    check = ''.join(char.lower() for char in s if char.isalnum())\n",
    "    return check == check[::-1]\n",
    "print(palindrome(\"A man, a plan, a canal, panama\"))\n",
    "print(palindrome(\"racecar\"))\n",
    "print(palindrome(\"hello\"))"
   ]
  },
  {
   "cell_type": "code",
   "execution_count": null,
   "id": "1d50dbc1-bc64-4539-b102-f4b300690b25",
   "metadata": {},
   "outputs": [],
   "source": [
    "#(65)How Many Basic Types of Functions Are Available in Python? \n",
    "'''In Python, there are four basic types of functions:\n",
    "\n",
    "1. Built-in Functions: These are pre-defined functions provided by Python, such as `len()` or `print()`. They are always available for use without additional imports.  \n",
    "2. User-defined Functions: Created by users using the `def` keyword to perform specific tasks based on their requirements.  \n",
    "3. Anonymous Functions: (Lambda Functions)**: Small, unnamed functions defined using the `lambda` keyword, often used for short, simple operations.  \n",
    "4. Recursive Functions: Functions that call themselves to solve problems by breaking them down into smaller, repetitive tasks.  \n",
    "\n",
    "Each type serves a distinct purpose in Python programming.'''"
   ]
  },
  {
   "cell_type": "code",
   "execution_count": 110,
   "id": "8745ae5b-fdfd-4cc0-9758-b1885c1e5354",
   "metadata": {},
   "outputs": [
    {
     "name": "stdout",
     "output_type": "stream",
     "text": [
      "Pick up random item: b\n"
     ]
    }
   ],
   "source": [
    "#(66)How can you pick a random item from a list or tuple?\n",
    "tup = ('a','b','c','d',6,8)\n",
    "tup1 = set(tup)\n",
    "for i in tup1:\n",
    "    print(\"Pick up a random item:\",i)\n",
    "    break"
   ]
  },
  {
   "cell_type": "code",
   "execution_count": 114,
   "id": "97dcea05-9006-4a2f-8545-70349fa4a9a9",
   "metadata": {},
   "outputs": [
    {
     "name": "stdout",
     "output_type": "stream",
     "text": [
      "Pick up a random item: b\n"
     ]
    }
   ],
   "source": [
    "lst = ['a','b','c','d',6,8]\n",
    "lst1 = set(lst)\n",
    "for i in lst1:\n",
    "    print(\"Pick up a random item:\",i)\n",
    "    break"
   ]
  },
  {
   "cell_type": "code",
   "execution_count": 11,
   "id": "969bac90-11d2-47b8-8f2a-61075c1b98ef",
   "metadata": {},
   "outputs": [
    {
     "name": "stdout",
     "output_type": "stream",
     "text": [
      "50\n"
     ]
    }
   ],
   "source": [
    "#(67)How can you pick a random item from a range? \n",
    "import random\n",
    "r = random.randrange(0,100)\n",
    "print(r)"
   ]
  },
  {
   "cell_type": "code",
   "execution_count": 13,
   "id": "277f3b60-ae12-4b7f-b76f-44433a753f2f",
   "metadata": {},
   "outputs": [
    {
     "name": "stdout",
     "output_type": "stream",
     "text": [
      "0.002297158729430593\n"
     ]
    }
   ],
   "source": [
    "#(68)How can you get a random number in python?\n",
    "import random\n",
    "print(random.random())"
   ]
  },
  {
   "cell_type": "code",
   "execution_count": 47,
   "id": "1fcfeeb0-eb5c-41d0-a3ef-e7f9de844083",
   "metadata": {},
   "outputs": [
    {
     "name": "stdin",
     "output_type": "stream",
     "text": [
      "Enter start number: 50\n",
      "Enter End number: 100\n"
     ]
    },
    {
     "name": "stdout",
     "output_type": "stream",
     "text": [
      "65\n"
     ]
    }
   ],
   "source": [
    "#(69)How will you set the starting value in generating random numbers?\n",
    "import random\n",
    "\n",
    "a = int(input(\"Enter start number:\"))\n",
    "b = int(input(\"Enter End number:\"))\n",
    "\n",
    "print(random.randrange(a,b+1))"
   ]
  },
  {
   "cell_type": "code",
   "execution_count": 23,
   "id": "695855d9-a020-4440-8223-03cd63728a53",
   "metadata": {},
   "outputs": [
    {
     "name": "stdout",
     "output_type": "stream",
     "text": [
      "Before shuffle : [1, 2, 3, 4, 5, 6]\n",
      "After shuffle: [2, 4, 6, 3, 5, 1]\n"
     ]
    }
   ],
   "source": [
    "#(70) How will you randomize the items of a list in place? \n",
    "import random\n",
    "lst = [1,2,3,4,5,6]\n",
    "print(f\"Before shuffle : {lst}\")\n",
    "random.shuffle(lst)\n",
    "print(f\"After shuffle: {lst}\")"
   ]
  },
  {
   "cell_type": "code",
   "execution_count": null,
   "id": "45c53c6c-85d3-4d1a-82cf-c7b324518294",
   "metadata": {},
   "outputs": [],
   "source": [
    "#(71)What is File function in python? What are keywords to create and write file. \n",
    "'''In Python, the file function refers to the ability to interact with files on your computer.\n",
    "Files can be opened, read, written to, and closed using Python's built-in functions.\n",
    "\n",
    "To create and write a file, you use the following keywords:\n",
    "\n",
    "1. open(): This function is used to open a file in a specific mode\n",
    "            (e.g., read, write, append).\n",
    "2. write(): This method is used to write data to a file.\n",
    "3. close(): This method is used to close the file after you're done working with it.\n",
    "\n",
    "When you open a file, you can specify the mode:\n",
    "- 'w' is for writing a new file (or overwriting an existing file).\n",
    "- 'a' is for appending data to the end of an existing file.\n",
    "\n",
    "To summarize:\n",
    "- Use open() to access the file.\n",
    "- Use write() to add content to the file.\n",
    "- Use close() to properly close the file when done.'''\n"
   ]
  },
  {
   "cell_type": "code",
   "execution_count": 7,
   "id": "59a3826d-7b04-4f49-85d0-36d1a57781d2",
   "metadata": {},
   "outputs": [
    {
     "name": "stdout",
     "output_type": "stream",
     "text": [
      "File functions are used in programming to handle operations like creating, reading, writing, and deleting files.\n",
      "They allow programs to intereact with data stored inf iles, enabling persistent storage and retrieval of information.\n",
      "\n"
     ]
    }
   ],
   "source": [
    "#(72)Write a Python program to read an entire text file. \n",
    "with open(\"text_file1.txt\", \"r\") as file:\n",
    "    content = file.read()\n",
    "print(content)"
   ]
  },
  {
   "cell_type": "code",
   "execution_count": 9,
   "id": "6fc6d027-232e-4ff0-9084-245a14dcb5c3",
   "metadata": {},
   "outputs": [
    {
     "name": "stdout",
     "output_type": "stream",
     "text": [
      "File content after apending -->\n",
      "File functions are used in programming to handle operations like creating, reading, writing, and deleting files.\n",
      "They allow programs to intereact with data stored inf iles, enabling persistent storage and retrieval of information.\n",
      "Always remember to close the file after you're done to free up system resources\n"
     ]
    }
   ],
   "source": [
    "#(73)Write a Python program to append text to a file and display the text.\n",
    "with open(\"text_file1.txt\", \"a\") as file:\n",
    "    file.write(\"Always remember to close the file after you're done to free up system resources\")\n",
    "with open(\"text_file1.txt\", \"r\") as file:\n",
    "    content = file.read()\n",
    "print(\"File content after apending -->\")\n",
    "print(content)\n"
   ]
  },
  {
   "cell_type": "code",
   "execution_count": 11,
   "id": "51d59750-b532-4fe2-964b-a6495cf9bfd1",
   "metadata": {},
   "outputs": [
    {
     "data": {
      "text/plain": [
       "'File functions are used in programming to handle operations like creating, reading, writing, and deleting files.\\n'"
      ]
     },
     "execution_count": 11,
     "metadata": {},
     "output_type": "execute_result"
    }
   ],
   "source": [
    "#(74)Write a Python program to read first n lines of a file.\n",
    "a = open(\"text_file1.txt\")\n",
    "a.readline()"
   ]
  },
  {
   "cell_type": "code",
   "execution_count": 35,
   "id": "9dfec6cd-1003-443b-9573-4f28db2d1256",
   "metadata": {},
   "outputs": [
    {
     "name": "stdout",
     "output_type": "stream",
     "text": [
      "Last sentence in the file:\n",
      "Always remember to close the file after you're done to free up system resources\n"
     ]
    }
   ],
   "source": [
    "#(75)Write a Python program to read last n lines of a file. \n",
    "with open(\"text_file1.txt\", \"r\") as file:\n",
    "    lines = file.readlines()\n",
    "last_sentence = lines[-1].strip()\n",
    "print(\"Last sentence in the file:\")\n",
    "print(last_sentence)"
   ]
  },
  {
   "cell_type": "code",
   "execution_count": 39,
   "id": "58c1c2d3-2c1f-4867-a4c3-0127f64e8444",
   "metadata": {},
   "outputs": [
    {
     "name": "stdout",
     "output_type": "stream",
     "text": [
      "List of lines from the file:\n",
      "['File functions are used in programming to handle operations like creating, reading, writing, and deleting files.', 'They allow programs to intereact with data stored inf iles, enabling persistent storage and retrieval of information.', \"Always remember to close the file after you're done to free up system resources\"]\n"
     ]
    }
   ],
   "source": [
    "#(76)Write a Python program to read a file line by line and store it into a list \n",
    "lst = []\n",
    "with open(\"text_file1.txt\", \"r\") as file:\n",
    "    for i in file:\n",
    "        lst.append(i.strip())\n",
    "print(\"List of lines from the file:\")\n",
    "print(lst)"
   ]
  },
  {
   "cell_type": "code",
   "execution_count": 45,
   "id": "99f0b8fe-adb8-4cda-94b7-c7aaacf2f84c",
   "metadata": {},
   "outputs": [
    {
     "name": "stdout",
     "output_type": "stream",
     "text": [
      "content of the file:\n",
      "File functions are used in programming to handle operations like creating, reading, writing, and deleting files.\n",
      "They allow programs to intereact with data stored inf iles, enabling persistent storage and retrieval of information.\n",
      "Always remember to close the file after you're done to free up system resources\n"
     ]
    }
   ],
   "source": [
    "#(77)Write a Python program to read a file line by line store it into a variable. \n",
    "content = \"\"\n",
    "with open(\"text_file1.txt\", \"r\") as file:\n",
    "    for i in file:\n",
    "        content += i\n",
    "print(\"content of the file:\")\n",
    "print(content)"
   ]
  },
  {
   "cell_type": "code",
   "execution_count": 47,
   "id": "a9f447b7-c7e0-44ad-89df-1dfac242905d",
   "metadata": {},
   "outputs": [
    {
     "name": "stdout",
     "output_type": "stream",
     "text": [
      "The longest word is: programming\n"
     ]
    }
   ],
   "source": [
    "#(78)Write a python program to find the longest words. \n",
    "text = \"File functions are used in programming to handle operations like creating, reading, writing, and deleting files.\"\n",
    "words = text.split()\n",
    "longest_word = max(words, key = len)\n",
    "print(\"The longest word is:\", longest_word)"
   ]
  },
  {
   "cell_type": "code",
   "execution_count": 49,
   "id": "912c8f21-7034-4a7e-b805-edb9c035ce26",
   "metadata": {},
   "outputs": [
    {
     "name": "stdout",
     "output_type": "stream",
     "text": [
      "Number of lines in the file: 3\n"
     ]
    }
   ],
   "source": [
    "#(79)Write a Python program to count the number of lines in a text file. \n",
    "line_count = 0 \n",
    "with open(\"text_file1.txt\", \"r\") as file:\n",
    "    for line in file:\n",
    "        line_count += 1\n",
    "print(\"Number of lines in the file:\", line_count)"
   ]
  },
  {
   "cell_type": "code",
   "execution_count": 5,
   "id": "7aa16168-6e53-47e5-9441-4863817a8416",
   "metadata": {},
   "outputs": [
    {
     "name": "stdout",
     "output_type": "stream",
     "text": [
      "file:2\n",
      "functions:1\n",
      "are:1\n",
      "used:1\n",
      "in:2\n",
      "programming:1\n",
      "to:4\n",
      "handle:1\n",
      "operations:1\n",
      "like:1\n",
      "creating:1\n",
      "reading:1\n",
      "writting:1\n",
      "and:2\n",
      "deleting:1\n",
      "files:2\n",
      "they:1\n",
      "allow:1\n",
      "programs:1\n",
      "intereact:1\n",
      "with:1\n",
      "data:1\n",
      "stored:1\n",
      "enabling:1\n",
      "persistent:1\n",
      "storage:1\n",
      "reterieval:1\n",
      "of:1\n",
      "information:1\n",
      "always:1\n",
      "remember:1\n",
      "close:1\n",
      "the:1\n",
      "after:1\n",
      "you're:1\n",
      "done:1\n",
      "free:1\n",
      "up:1\n",
      "system:1\n",
      "resources:1\n",
      "powerbi:1\n",
      "tableu:1\n",
      "excel:1\n",
      "statistics:1\n",
      "python:1\n",
      "sql:1\n"
     ]
    }
   ],
   "source": [
    "#(80)Write a Python program to count the frequency of words in a file. \n",
    "with open(\"text_file1.txt\", \"r\") as tf:\n",
    "    c = tf.read()\n",
    "w = c.lower().split()\n",
    "wf = {}\n",
    "for w1 in w:\n",
    "    w1 = w1.strip(\",.?!/;:'\"\"\")\n",
    "    if w1 in wf:\n",
    "        wf[w1] += 1\n",
    "    else:\n",
    "        wf[w1] = 1\n",
    "for w1, c1 in wf.items():\n",
    "    print(f\"{w1}:{c1}\")"
   ]
  },
  {
   "cell_type": "code",
   "execution_count": 51,
   "id": "a00a21a2-0290-4e1d-b3f6-d58d973a74ab",
   "metadata": {},
   "outputs": [
    {
     "name": "stdout",
     "output_type": "stream",
     "text": [
      "List has been written to the file.\n"
     ]
    },
    {
     "data": {
      "text/plain": [
       "'powerbi\\ntableu\\nexcel\\nstatistics\\npython\\nSQL\\n'"
      ]
     },
     "execution_count": 51,
     "metadata": {},
     "output_type": "execute_result"
    }
   ],
   "source": [
    "#(81)Write a Python program to write a list to a file. \n",
    "lst = [\"powerbi\", \"tableu\", \"excel\", \"statistics\", \"python\", \"SQL\"]\n",
    "with open(\"text_file1.txt\", \"w\") as file:\n",
    "    for DA in lst:\n",
    "        file.write(DA + \"\\n\")\n",
    "print(\"List has been written to the file.\")\n",
    "open(\"text_file1.txt\", \"r\").read()\n"
   ]
  },
  {
   "cell_type": "code",
   "execution_count": 53,
   "id": "ae44e9a6-2b60-4ce3-8d41-94679d2cca14",
   "metadata": {},
   "outputs": [
    {
     "name": "stdout",
     "output_type": "stream",
     "text": [
      "File contensts copied successfully.\n"
     ]
    }
   ],
   "source": [
    "#(82)Write a Python program to copy the contents of a file to another file\n",
    "with open(\"shift.txt\", \"r\") as shift:\n",
    "    content = shift.read()\n",
    "with open(\"another.txt\", \"w\") as another:\n",
    "    another.write(content)\n",
    "print(\"File contensts copied successfully.\")\n",
    "    "
   ]
  },
  {
   "cell_type": "code",
   "execution_count": null,
   "id": "4a292664-4e4f-4e1f-8211-04d73b22062e",
   "metadata": {},
   "outputs": [],
   "source": [
    "#(83)Explain Exception handling? What is an Error in Python?\n",
    "'''Exception handling in python is a mechanism that allows a program to deal with runtime\n",
    "errors, also known as exceptions, in a graceful way. Instead of the program crashing when\n",
    "an erro occurs, exception handling allows into to continue execution or provide meaningful\n",
    "error messages. It is done using try, except, else, and finally blocks. The try block contains\n",
    "the code that might cause an exception, and if an error occures, it is caught by the except block.\n",
    "The else block runs if no exception was raised.\n",
    "An error in Python refers to an issue that causes the program to stop execution. Python categorizes\n",
    "errors into two main types: syntax errors and exceptions. A syntax error occurs when the code \n",
    "doesn't follow the correct syntax, like a missing colon or parenthesis. An exception is a runtie\n",
    "error that occurs during the execution of the program, such as division by zero or trying to access\n",
    "an undefined variable. Errors and exceptions are objects in Python, and they can be handled to prevent \n",
    "the program from terminating abruptly. Using exeption handling, devleopers can manage unexpected\n",
    "situations and provide custom responses tor recovery strategies.'''"
   ]
  },
  {
   "cell_type": "code",
   "execution_count": null,
   "id": "e8478cc3-4f68-497f-ab5c-1552f3434cca",
   "metadata": {},
   "outputs": [],
   "source": [
    "#(84)How many except statements can a try-except block have? Name Some built-in exception classes:\n",
    "''' A try-except block in python can have multiple except statements, allowing it to catch differnt\n",
    "types of exceptions. There is no limit to the number of except statements that can be used, but it's \n",
    "common to have one except block for each exception type that you want to handle.\n",
    "Some built-in exception classes in python include:\n",
    "1. IndexError\n",
    "2. KeyError\n",
    "3. ValueError\n",
    "4. TypeError\n",
    "5. FileNotFoundError\n",
    "6. ZeroDivisionError\n",
    "7. NameError\n",
    "8. AttributeError\n",
    "9. IOError\n",
    "10.OverflowError"
   ]
  },
  {
   "cell_type": "code",
   "execution_count": null,
   "id": "deeee011-3667-421d-9a6a-df2b9e6603c8",
   "metadata": {},
   "outputs": [],
   "source": [
    "#(85)When will the else part of try-except-else be executed? \n",
    "'''The else part of a try-except-else block will be executed only if no exception is raised in\n",
    "the try block. It runs the try block has executed successfully, meaning the code in the\n",
    "try block did not encounter any errors. If an exception occurs, the except block is executed,\n",
    "and the else block is skipped. If no exception occurs, the program proceeds to the else\n",
    "block.\n",
    "1. The else block is executed if the try block runs without errors.\n",
    "2. The else block is skipped if any exception is caught by an except block."
   ]
  },
  {
   "cell_type": "code",
   "execution_count": null,
   "id": "07a19a8e-5b6c-4404-baca-464f9a640034",
   "metadata": {},
   "outputs": [],
   "source": [
    "#(86)Can one block of except statements handle multiple exception?\n",
    "''' A single block of except statements can handle multiple exceptions in Python. This is done\n",
    "by specifying the exceptions in a tuple within the except block. When an error occurs in the try \n",
    "block, python checks if the error matches any of the exceptions listed in the except block.\n",
    "If it matches, the code inside that block is executed. Using one block for multiple exceptions\n",
    "can make your code cleaner and reduce duplication. It is helpful when you want the same response\n",
    "for different types of errors. However, if each exceptions needs different handling,separate\n",
    "except blocks shold be used. Grouping exceptions also makes your code easier to read and manage.\n",
    "However, you should avoid overusing it, as combining unrelated exceptions can make debugging  harder.\n",
    "Always use clear and specific exceptions to maintain code clairty. This practice ensures you program\n",
    "can handle errors effectively while staying organized.\n"
   ]
  },
  {
   "cell_type": "code",
   "execution_count": null,
   "id": "7c6a515d-fac6-4765-9252-a36700fc2b76",
   "metadata": {},
   "outputs": [],
   "source": [
    "#(87)When is the finally block executed? \n",
    "'''The finally block in python is always executed after the try block, regardless of whether an\n",
    "exception occurs or not. Its main purpose is to ensure that certain actions, like cleanup tasks or\n",
    "resource release, happen no matter what. This makes it useful for closing files, releasing locks, or \n",
    "disconnecting from databases.\n",
    "If an exception occurs in the try block, the finally block runs after the except block handles\n",
    "the exception. If no exception happens, the finally block still executes once the try block\n",
    "finishes. Even if there's a return, break, or continue in the try or except block, the finally block\n",
    "will run beofre the program moves on.\n",
    "The only situation where the finaly block might not eecute is if the program is forcibly stopped, \n",
    "like with a system crash or the use of os._exit(). Using finally ensures the ciritcal tasks\n",
    "are completed, which helps make your code more reliable and predictable.'''"
   ]
  },
  {
   "cell_type": "code",
   "execution_count": null,
   "id": "7d77c9b2-c8a5-4f11-b6ce-42fa46830967",
   "metadata": {},
   "outputs": [],
   "source": [
    "#(88)What happens when „1‟== 1 is executed?"
   ]
  },
  {
   "cell_type": "code",
   "execution_count": null,
   "id": "b8194777-1e8c-4575-ae38-ff2f10b401cb",
   "metadata": {},
   "outputs": [],
   "source": [
    "#(89)How Do You Handle Exceptions with Try/Except/Finally in Python? Explain with coding snippets. \n",
    "''' In Python, exceptions are handled using the try, except, else, and finally blocks. Here's\n",
    "and explanation of each block and how they work together:\n",
    "1. try block: This is where you write the code that may raise an exception. Python will attempt to execute the code in this block.\n",
    "2. except block: This block catches exceptions raised in the try block. You can specify which exceptions to catch and how to handle them.\n",
    "3. else block: This block is executed if no exceptions occur in the try block. It's typically used for code that should run only when the try block is successful.\n",
    "4. finally block: This block is always executed, regardless of whether an exception occures or not. It's commonly used for cleanup actions like closing files or relaeasing resources.'''"
   ]
  },
  {
   "cell_type": "code",
   "execution_count": 39,
   "id": "ddac26b3-e8fe-4575-9c13-44d44b3f6324",
   "metadata": {},
   "outputs": [
    {
     "name": "stdin",
     "output_type": "stream",
     "text": [
      "Enter an odd number: 6\n"
     ]
    },
    {
     "name": "stdout",
     "output_type": "stream",
     "text": [
      "Error: 6 is not an odd number!\n"
     ]
    }
   ],
   "source": [
    "#(90)Write python program that user to enter only odd numbers, else will raise an exception.\n",
    "def odd():\n",
    "    try:\n",
    "        n = int(input(\"Enter an odd number:\"))\n",
    "        if n % 2 == 0:\n",
    "            raise ValueError(f\"{n} is not an odd number!\")\n",
    "        print(f\"Thank You! You entered an odd number: {n}\")\n",
    "    except ValueError as e:\n",
    "        print(f\"Error: {e}\")\n",
    "\n",
    "odd()\n"
   ]
  }
 ],
 "metadata": {
  "kernelspec": {
   "display_name": "Python 3 (ipykernel)",
   "language": "python",
   "name": "python3"
  },
  "language_info": {
   "codemirror_mode": {
    "name": "ipython",
    "version": 3
   },
   "file_extension": ".py",
   "mimetype": "text/x-python",
   "name": "python",
   "nbconvert_exporter": "python",
   "pygments_lexer": "ipython3",
   "version": "3.12.4"
  }
 },
 "nbformat": 4,
 "nbformat_minor": 5
}
